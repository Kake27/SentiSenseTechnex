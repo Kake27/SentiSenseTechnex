{
 "cells": [
  {
   "cell_type": "code",
   "execution_count": 2,
   "metadata": {},
   "outputs": [
    {
     "name": "stdout",
     "output_type": "stream",
     "text": [
      "Collecting google-genai\n",
      "  Downloading google_genai-1.3.0-py3-none-any.whl.metadata (28 kB)\n",
      "Collecting google-auth<3.0.0dev,>=2.14.1 (from google-genai)\n",
      "  Downloading google_auth-2.38.0-py2.py3-none-any.whl.metadata (4.8 kB)\n",
      "Requirement already satisfied: httpx<1.0.0dev,>=0.28.1 in c:\\users\\saisw\\appdata\\local\\programs\\python\\python310\\lib\\site-packages (from google-genai) (0.28.1)\n",
      "Requirement already satisfied: pydantic<3.0.0dev,>=2.0.0 in c:\\users\\saisw\\appdata\\local\\programs\\python\\python310\\lib\\site-packages (from google-genai) (2.10.6)\n",
      "Requirement already satisfied: requests<3.0.0dev,>=2.28.1 in c:\\users\\saisw\\appdata\\local\\programs\\python\\python310\\lib\\site-packages (from google-genai) (2.32.3)\n",
      "Collecting websockets<15.0dev,>=13.0 (from google-genai)\n",
      "  Downloading websockets-14.2-cp310-cp310-win_amd64.whl.metadata (7.0 kB)\n",
      "Requirement already satisfied: typing-extensions<5.0.0dev,>=4.11.0 in c:\\users\\saisw\\appdata\\local\\programs\\python\\python310\\lib\\site-packages (from google-genai) (4.12.2)\n",
      "Collecting cachetools<6.0,>=2.0.0 (from google-auth<3.0.0dev,>=2.14.1->google-genai)\n",
      "  Downloading cachetools-5.5.2-py3-none-any.whl.metadata (5.4 kB)\n",
      "Collecting pyasn1-modules>=0.2.1 (from google-auth<3.0.0dev,>=2.14.1->google-genai)\n",
      "  Using cached pyasn1_modules-0.4.1-py3-none-any.whl.metadata (3.5 kB)\n",
      "Collecting rsa<5,>=3.1.4 (from google-auth<3.0.0dev,>=2.14.1->google-genai)\n",
      "  Using cached rsa-4.9-py3-none-any.whl.metadata (4.2 kB)\n",
      "Requirement already satisfied: anyio in c:\\users\\saisw\\appdata\\local\\programs\\python\\python310\\lib\\site-packages (from httpx<1.0.0dev,>=0.28.1->google-genai) (4.8.0)\n",
      "Requirement already satisfied: certifi in c:\\users\\saisw\\appdata\\local\\programs\\python\\python310\\lib\\site-packages (from httpx<1.0.0dev,>=0.28.1->google-genai) (2025.1.31)\n",
      "Requirement already satisfied: httpcore==1.* in c:\\users\\saisw\\appdata\\local\\programs\\python\\python310\\lib\\site-packages (from httpx<1.0.0dev,>=0.28.1->google-genai) (1.0.7)\n",
      "Requirement already satisfied: idna in c:\\users\\saisw\\appdata\\local\\programs\\python\\python310\\lib\\site-packages (from httpx<1.0.0dev,>=0.28.1->google-genai) (3.10)\n",
      "Requirement already satisfied: h11<0.15,>=0.13 in c:\\users\\saisw\\appdata\\local\\programs\\python\\python310\\lib\\site-packages (from httpcore==1.*->httpx<1.0.0dev,>=0.28.1->google-genai) (0.14.0)\n",
      "Requirement already satisfied: annotated-types>=0.6.0 in c:\\users\\saisw\\appdata\\local\\programs\\python\\python310\\lib\\site-packages (from pydantic<3.0.0dev,>=2.0.0->google-genai) (0.7.0)\n",
      "Requirement already satisfied: pydantic-core==2.27.2 in c:\\users\\saisw\\appdata\\local\\programs\\python\\python310\\lib\\site-packages (from pydantic<3.0.0dev,>=2.0.0->google-genai) (2.27.2)\n",
      "Requirement already satisfied: charset-normalizer<4,>=2 in c:\\users\\saisw\\appdata\\local\\programs\\python\\python310\\lib\\site-packages (from requests<3.0.0dev,>=2.28.1->google-genai) (3.4.1)\n",
      "Requirement already satisfied: urllib3<3,>=1.21.1 in c:\\users\\saisw\\appdata\\local\\programs\\python\\python310\\lib\\site-packages (from requests<3.0.0dev,>=2.28.1->google-genai) (2.3.0)\n",
      "Collecting pyasn1<0.7.0,>=0.4.6 (from pyasn1-modules>=0.2.1->google-auth<3.0.0dev,>=2.14.1->google-genai)\n",
      "  Using cached pyasn1-0.6.1-py3-none-any.whl.metadata (8.4 kB)\n",
      "Requirement already satisfied: exceptiongroup>=1.0.2 in c:\\users\\saisw\\appdata\\local\\programs\\python\\python310\\lib\\site-packages (from anyio->httpx<1.0.0dev,>=0.28.1->google-genai) (1.2.2)\n",
      "Requirement already satisfied: sniffio>=1.1 in c:\\users\\saisw\\appdata\\local\\programs\\python\\python310\\lib\\site-packages (from anyio->httpx<1.0.0dev,>=0.28.1->google-genai) (1.3.1)\n",
      "Downloading google_genai-1.3.0-py3-none-any.whl (137 kB)\n",
      "Downloading google_auth-2.38.0-py2.py3-none-any.whl (210 kB)\n",
      "Downloading websockets-14.2-cp310-cp310-win_amd64.whl (164 kB)\n",
      "Downloading cachetools-5.5.2-py3-none-any.whl (10 kB)\n",
      "Using cached pyasn1_modules-0.4.1-py3-none-any.whl (181 kB)\n",
      "Using cached rsa-4.9-py3-none-any.whl (34 kB)\n",
      "Using cached pyasn1-0.6.1-py3-none-any.whl (83 kB)\n",
      "Installing collected packages: websockets, pyasn1, cachetools, rsa, pyasn1-modules, google-auth, google-genai\n",
      "Successfully installed cachetools-5.5.2 google-auth-2.38.0 google-genai-1.3.0 pyasn1-0.6.1 pyasn1-modules-0.4.1 rsa-4.9 websockets-14.2\n"
     ]
    }
   ],
   "source": [
    "!pip install google-genai"
   ]
  },
  {
   "cell_type": "code",
   "execution_count": 3,
   "metadata": {
    "colab": {
     "base_uri": "https://localhost:8080/"
    },
    "id": "3DKlYD4iQjCw",
    "outputId": "af38c76c-4e58-4e52-8c4c-e4635d55707b"
   },
   "outputs": [
    {
     "name": "stdout",
     "output_type": "stream",
     "text": [
      "CSV file 'improvements.csv' created successfully.\n"
     ]
    }
   ],
   "source": [
    "import csv\n",
    "from google import genai\n",
    "\n",
    "prompt = \"\"\"\n",
    "Analyze the following clusters of product reviews categorized by sentiment (neutral, negative, positive).\n",
    "\n",
    "For each sentiment (neutral, negative, positive), provide bullet points (maximum 10 words for each bullet) for:\n",
    "1. How to improve neutral sentiments.\n",
    "2. How to minimize negative sentiments.\n",
    "3. How to enhance positive sentiments.\n",
    "\n",
    "Data:\n",
    "\n",
    "Sentiment: neutral\n",
    "Cluster 0: ['This product is okay. It works as expected but lacks innovation.', 'It is a decent product, but could be better.', 'The product is fine but could use some improvements.']\n",
    "Cluster 1: ['It’s an average experience. It does the job but nothing special.', 'The product is decent but lacks advanced features.', 'A fair product, but not extraordinary in any way.']\n",
    "Cluster 2: ['The product is serviceable but not remarkable in any aspect.', 'It’s a fine product but doesn’t stand out from the competition.', 'Good enough product, but doesn’t wow me.']\n",
    "\n",
    "Sentiment: negative\n",
    "Cluster 0: ['The product is terrible. It broke after a few uses.', 'This product is awful, it stopped working within a week.', 'I hate this product, it’s very poorly made.']\n",
    "Cluster 1: ['This product is disappointing. It doesn’t work as advertised.', 'It’s frustrating that this product doesn’t meet expectations.', 'The product failed to live up to its promises.']\n",
    "Cluster 2: ['I regret buying this product. It’s of very poor quality.', 'Very bad product, it doesn’t work at all.', 'Not worth the money. The product is a scam.']\n",
    "\n",
    "Sentiment: positive\n",
    "Cluster 0: ['This product is amazing! It exceeded all my expectations.', 'I absolutely love this product, it works perfectly.', 'The product is fantastic, very satisfied with the quality.']\n",
    "Cluster 1: ['This is an excellent product, highly recommend it!', 'Such a great product! It works beyond expectations.', 'I am so impressed with this product. Highly recommend it.']\n",
    "Cluster 2: ['An outstanding product! It has been a game changer.', 'I am very happy with this purchase, best product ever.', 'This is an incredible product. Worth every penny.']\n",
    "\n",
    "Return: Provide only the bullet points for improving neutral reviews, minimizing negative reviews, and enhancing positive reviews.\n",
    "\"\"\"\n",
    "\n",
    "client = genai.Client(api_key=f\"{YOUR_API_KEY}\")\n",
    "\n",
    "response = client.models.generate_content(\n",
    "    model='gemini-2.0-flash',\n",
    "    contents=prompt,\n",
    ")\n",
    "\n",
    "response_text = response.text.strip()\n",
    "\n",
    "sentiment_data = []\n",
    "sections = response_text.split(\"\\n\\n\")\n",
    "\n",
    "for section in sections:\n",
    "    sentiment = section.split(\"\\n\")[0].replace(\"Sentiment:\", \"\").strip()\n",
    "    improvement_points = section.split(\"\\n\")[1:]\n",
    "\n",
    "    for point in improvement_points:\n",
    "        sentiment_data.append((sentiment, point.strip()))\n",
    "\n",
    "file_path = \"improvements.csv\"\n",
    "\n",
    "with open(file_path, mode='w', newline='') as file:\n",
    "    writer = csv.writer(file)\n",
    "    writer.writerow([\"Sentiment\", \"Improvement Points\"])\n",
    "    for sentiment, improvement in sentiment_data:\n",
    "        writer.writerow([sentiment, improvement])\n",
    "\n",
    "print(f\"CSV file '{file_path}' created successfully.\")\n"
   ]
  }
 ],
 "metadata": {
  "colab": {
   "provenance": []
  },
  "kernelspec": {
   "display_name": "Python 3 (ipykernel)",
   "language": "python",
   "name": "python3"
  },
  "language_info": {
   "codemirror_mode": {
    "name": "ipython",
    "version": 3
   },
   "file_extension": ".py",
   "mimetype": "text/x-python",
   "name": "python",
   "nbconvert_exporter": "python",
   "pygments_lexer": "ipython3",
   "version": "3.10.6"
  }
 },
 "nbformat": 4,
 "nbformat_minor": 4
}
