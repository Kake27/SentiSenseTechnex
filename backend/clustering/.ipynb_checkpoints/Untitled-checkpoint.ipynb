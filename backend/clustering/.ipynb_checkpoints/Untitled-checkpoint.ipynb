{
 "cells": [
  {
   "cell_type": "code",
   "execution_count": 1,
   "id": "65ab12e0-819d-43bd-a0ed-04ecce284e8b",
   "metadata": {},
   "outputs": [
    {
     "name": "stdout",
     "output_type": "stream",
     "text": [
      "Collecting sentence-transformers\n",
      "  Using cached sentence_transformers-3.4.1-py3-none-any.whl.metadata (10 kB)\n",
      "Collecting umap-learn\n",
      "  Downloading umap_learn-0.5.7-py3-none-any.whl.metadata (21 kB)\n",
      "Requirement already satisfied: pandas in c:\\users\\saisw\\appdata\\local\\programs\\python\\python310\\lib\\site-packages (2.2.3)\n",
      "Requirement already satisfied: scikit-learn in c:\\users\\saisw\\appdata\\local\\programs\\python\\python310\\lib\\site-packages (1.6.1)\n",
      "Requirement already satisfied: transformers<5.0.0,>=4.41.0 in c:\\users\\saisw\\appdata\\local\\programs\\python\\python310\\lib\\site-packages (from sentence-transformers) (4.47.0)\n",
      "Requirement already satisfied: tqdm in c:\\users\\saisw\\appdata\\local\\programs\\python\\python310\\lib\\site-packages (from sentence-transformers) (4.67.1)\n",
      "Requirement already satisfied: torch>=1.11.0 in c:\\users\\saisw\\appdata\\local\\programs\\python\\python310\\lib\\site-packages (from sentence-transformers) (2.6.0)\n",
      "Requirement already satisfied: scipy in c:\\users\\saisw\\appdata\\local\\programs\\python\\python310\\lib\\site-packages (from sentence-transformers) (1.15.2)\n",
      "Requirement already satisfied: huggingface-hub>=0.20.0 in c:\\users\\saisw\\appdata\\local\\programs\\python\\python310\\lib\\site-packages (from sentence-transformers) (0.28.1)\n",
      "Requirement already satisfied: Pillow in c:\\users\\saisw\\appdata\\local\\programs\\python\\python310\\lib\\site-packages (from sentence-transformers) (11.1.0)\n",
      "Requirement already satisfied: numpy>=1.17 in c:\\users\\saisw\\appdata\\local\\programs\\python\\python310\\lib\\site-packages (from umap-learn) (2.0.2)\n",
      "Collecting numba>=0.51.2 (from umap-learn)\n",
      "  Downloading numba-0.61.0-cp310-cp310-win_amd64.whl.metadata (2.8 kB)\n",
      "Collecting pynndescent>=0.5 (from umap-learn)\n",
      "  Downloading pynndescent-0.5.13-py3-none-any.whl.metadata (6.8 kB)\n",
      "Requirement already satisfied: python-dateutil>=2.8.2 in c:\\users\\saisw\\appdata\\local\\programs\\python\\python310\\lib\\site-packages (from pandas) (2.9.0.post0)\n",
      "Requirement already satisfied: pytz>=2020.1 in c:\\users\\saisw\\appdata\\local\\programs\\python\\python310\\lib\\site-packages (from pandas) (2025.1)\n",
      "Requirement already satisfied: tzdata>=2022.7 in c:\\users\\saisw\\appdata\\local\\programs\\python\\python310\\lib\\site-packages (from pandas) (2025.1)\n",
      "Requirement already satisfied: joblib>=1.2.0 in c:\\users\\saisw\\appdata\\local\\programs\\python\\python310\\lib\\site-packages (from scikit-learn) (1.4.2)\n",
      "Requirement already satisfied: threadpoolctl>=3.1.0 in c:\\users\\saisw\\appdata\\local\\programs\\python\\python310\\lib\\site-packages (from scikit-learn) (3.5.0)\n",
      "Requirement already satisfied: filelock in c:\\users\\saisw\\appdata\\local\\programs\\python\\python310\\lib\\site-packages (from huggingface-hub>=0.20.0->sentence-transformers) (3.17.0)\n",
      "Requirement already satisfied: fsspec>=2023.5.0 in c:\\users\\saisw\\appdata\\local\\programs\\python\\python310\\lib\\site-packages (from huggingface-hub>=0.20.0->sentence-transformers) (2025.2.0)\n",
      "Requirement already satisfied: packaging>=20.9 in c:\\users\\saisw\\appdata\\local\\programs\\python\\python310\\lib\\site-packages (from huggingface-hub>=0.20.0->sentence-transformers) (24.2)\n",
      "Requirement already satisfied: pyyaml>=5.1 in c:\\users\\saisw\\appdata\\local\\programs\\python\\python310\\lib\\site-packages (from huggingface-hub>=0.20.0->sentence-transformers) (6.0.2)\n",
      "Requirement already satisfied: requests in c:\\users\\saisw\\appdata\\local\\programs\\python\\python310\\lib\\site-packages (from huggingface-hub>=0.20.0->sentence-transformers) (2.32.3)\n",
      "Requirement already satisfied: typing-extensions>=3.7.4.3 in c:\\users\\saisw\\appdata\\local\\programs\\python\\python310\\lib\\site-packages (from huggingface-hub>=0.20.0->sentence-transformers) (4.12.2)\n",
      "Collecting llvmlite<0.45,>=0.44.0dev0 (from numba>=0.51.2->umap-learn)\n",
      "  Downloading llvmlite-0.44.0-cp310-cp310-win_amd64.whl.metadata (5.0 kB)\n",
      "Requirement already satisfied: six>=1.5 in c:\\users\\saisw\\appdata\\local\\programs\\python\\python310\\lib\\site-packages (from python-dateutil>=2.8.2->pandas) (1.14.0)\n",
      "Requirement already satisfied: networkx in c:\\users\\saisw\\appdata\\local\\programs\\python\\python310\\lib\\site-packages (from torch>=1.11.0->sentence-transformers) (3.4.2)\n",
      "Requirement already satisfied: jinja2 in c:\\users\\saisw\\appdata\\local\\programs\\python\\python310\\lib\\site-packages (from torch>=1.11.0->sentence-transformers) (3.1.5)\n",
      "Requirement already satisfied: sympy==1.13.1 in c:\\users\\saisw\\appdata\\local\\programs\\python\\python310\\lib\\site-packages (from torch>=1.11.0->sentence-transformers) (1.13.1)\n",
      "Requirement already satisfied: mpmath<1.4,>=1.1.0 in c:\\users\\saisw\\appdata\\local\\programs\\python\\python310\\lib\\site-packages (from sympy==1.13.1->torch>=1.11.0->sentence-transformers) (1.3.0)\n",
      "Requirement already satisfied: colorama in c:\\users\\saisw\\appdata\\local\\programs\\python\\python310\\lib\\site-packages (from tqdm->sentence-transformers) (0.4.6)\n",
      "Requirement already satisfied: regex!=2019.12.17 in c:\\users\\saisw\\appdata\\local\\programs\\python\\python310\\lib\\site-packages (from transformers<5.0.0,>=4.41.0->sentence-transformers) (2024.11.6)\n",
      "Requirement already satisfied: tokenizers<0.22,>=0.21 in c:\\users\\saisw\\appdata\\local\\programs\\python\\python310\\lib\\site-packages (from transformers<5.0.0,>=4.41.0->sentence-transformers) (0.21.0)\n",
      "Requirement already satisfied: safetensors>=0.4.1 in c:\\users\\saisw\\appdata\\local\\programs\\python\\python310\\lib\\site-packages (from transformers<5.0.0,>=4.41.0->sentence-transformers) (0.5.2)\n",
      "Requirement already satisfied: MarkupSafe>=2.0 in c:\\users\\saisw\\appdata\\local\\programs\\python\\python310\\lib\\site-packages (from jinja2->torch>=1.11.0->sentence-transformers) (3.0.2)\n",
      "Requirement already satisfied: charset-normalizer<4,>=2 in c:\\users\\saisw\\appdata\\local\\programs\\python\\python310\\lib\\site-packages (from requests->huggingface-hub>=0.20.0->sentence-transformers) (3.4.1)\n",
      "Requirement already satisfied: idna<4,>=2.5 in c:\\users\\saisw\\appdata\\local\\programs\\python\\python310\\lib\\site-packages (from requests->huggingface-hub>=0.20.0->sentence-transformers) (3.10)\n",
      "Requirement already satisfied: urllib3<3,>=1.21.1 in c:\\users\\saisw\\appdata\\local\\programs\\python\\python310\\lib\\site-packages (from requests->huggingface-hub>=0.20.0->sentence-transformers) (2.3.0)\n",
      "Requirement already satisfied: certifi>=2017.4.17 in c:\\users\\saisw\\appdata\\local\\programs\\python\\python310\\lib\\site-packages (from requests->huggingface-hub>=0.20.0->sentence-transformers) (2025.1.31)\n",
      "Downloading sentence_transformers-3.4.1-py3-none-any.whl (275 kB)\n",
      "Downloading umap_learn-0.5.7-py3-none-any.whl (88 kB)\n",
      "Downloading numba-0.61.0-cp310-cp310-win_amd64.whl (2.8 MB)\n",
      "   ---------------------------------------- 0.0/2.8 MB ? eta -:--:--\n",
      "   ----------- ---------------------------- 0.8/2.8 MB 4.2 MB/s eta 0:00:01\n",
      "   --------------------------------- ------ 2.4/2.8 MB 6.1 MB/s eta 0:00:01\n",
      "   ---------------------------------------- 2.8/2.8 MB 6.1 MB/s eta 0:00:00\n",
      "Downloading pynndescent-0.5.13-py3-none-any.whl (56 kB)\n",
      "Downloading llvmlite-0.44.0-cp310-cp310-win_amd64.whl (30.3 MB)\n",
      "   ---------------------------------------- 0.0/30.3 MB ? eta -:--:--\n",
      "   -- ------------------------------------- 2.1/30.3 MB 10.7 MB/s eta 0:00:03\n",
      "   ----- ---------------------------------- 4.5/30.3 MB 11.7 MB/s eta 0:00:03\n",
      "   -------- ------------------------------- 6.6/30.3 MB 10.6 MB/s eta 0:00:03\n",
      "   ------------ --------------------------- 9.2/30.3 MB 11.2 MB/s eta 0:00:02\n",
      "   --------------- ------------------------ 12.1/30.3 MB 11.6 MB/s eta 0:00:02\n",
      "   -------------------- ------------------- 15.7/30.3 MB 12.4 MB/s eta 0:00:02\n",
      "   -------------------------- ------------- 20.4/30.3 MB 14.0 MB/s eta 0:00:01\n",
      "   -------------------------------- ------- 24.4/30.3 MB 14.6 MB/s eta 0:00:01\n",
      "   ------------------------------------ --- 27.5/30.3 MB 14.9 MB/s eta 0:00:01\n",
      "   ---------------------------------------  30.1/30.3 MB 15.2 MB/s eta 0:00:01\n",
      "   ---------------------------------------- 30.3/30.3 MB 14.4 MB/s eta 0:00:00\n",
      "Installing collected packages: llvmlite, numba, pynndescent, umap-learn, sentence-transformers\n",
      "Successfully installed llvmlite-0.44.0 numba-0.61.0 pynndescent-0.5.13 sentence-transformers-3.4.1 umap-learn-0.5.7\n"
     ]
    }
   ],
   "source": [
    "!pip install sentence-transformers umap-learn pandas scikit-learn"
   ]
  },
  {
   "cell_type": "code",
   "execution_count": 2,
   "id": "10786757-842c-46ba-9b88-077e99e949cb",
   "metadata": {},
   "outputs": [],
   "source": [
    "import pandas as pd\n",
    "df=pd.read_csv(\"Filmreviews_with_neutral.csv\")"
   ]
  },
  {
   "cell_type": "code",
   "execution_count": 3,
   "id": "f0ed3710-7014-4cac-a67c-b36facfc56f0",
   "metadata": {},
   "outputs": [
    {
     "data": {
      "text/html": [
       "<div>\n",
       "<style scoped>\n",
       "    .dataframe tbody tr th:only-of-type {\n",
       "        vertical-align: middle;\n",
       "    }\n",
       "\n",
       "    .dataframe tbody tr th {\n",
       "        vertical-align: top;\n",
       "    }\n",
       "\n",
       "    .dataframe thead th {\n",
       "        text-align: right;\n",
       "    }\n",
       "</style>\n",
       "<table border=\"1\" class=\"dataframe\">\n",
       "  <thead>\n",
       "    <tr style=\"text-align: right;\">\n",
       "      <th></th>\n",
       "      <th>Review</th>\n",
       "      <th>Sentiment</th>\n",
       "    </tr>\n",
       "  </thead>\n",
       "  <tbody>\n",
       "    <tr>\n",
       "      <th>0</th>\n",
       "      <td>This film was fine. The plot was average and t...</td>\n",
       "      <td>neutral</td>\n",
       "    </tr>\n",
       "    <tr>\n",
       "      <th>1</th>\n",
       "      <td>This film was poor. The plot was poor and the ...</td>\n",
       "      <td>negative</td>\n",
       "    </tr>\n",
       "    <tr>\n",
       "      <th>2</th>\n",
       "      <td>A excellent experience. The narrative was fant...</td>\n",
       "      <td>positive</td>\n",
       "    </tr>\n",
       "    <tr>\n",
       "      <th>3</th>\n",
       "      <td>This film was poor. The plot was boring and th...</td>\n",
       "      <td>negative</td>\n",
       "    </tr>\n",
       "    <tr>\n",
       "      <th>4</th>\n",
       "      <td>A brilliant experience. The narrative was exce...</td>\n",
       "      <td>positive</td>\n",
       "    </tr>\n",
       "    <tr>\n",
       "      <th>...</th>\n",
       "      <td>...</td>\n",
       "      <td>...</td>\n",
       "    </tr>\n",
       "    <tr>\n",
       "      <th>1268</th>\n",
       "      <td>Absolutely fine. The actors did a neutral job,...</td>\n",
       "      <td>neutral</td>\n",
       "    </tr>\n",
       "    <tr>\n",
       "      <th>1269</th>\n",
       "      <td>A dull experience. The narrative was terrible ...</td>\n",
       "      <td>negative</td>\n",
       "    </tr>\n",
       "    <tr>\n",
       "      <th>1270</th>\n",
       "      <td>I hated this movie! The acting was boring, and...</td>\n",
       "      <td>negative</td>\n",
       "    </tr>\n",
       "    <tr>\n",
       "      <th>1271</th>\n",
       "      <td>Absolutely terrible! The actors did a boring j...</td>\n",
       "      <td>negative</td>\n",
       "    </tr>\n",
       "    <tr>\n",
       "      <th>1272</th>\n",
       "      <td>A wonderful experience. The narrative was wond...</td>\n",
       "      <td>positive</td>\n",
       "    </tr>\n",
       "  </tbody>\n",
       "</table>\n",
       "<p>1273 rows × 2 columns</p>\n",
       "</div>"
      ],
      "text/plain": [
       "                                                 Review Sentiment\n",
       "0     This film was fine. The plot was average and t...   neutral\n",
       "1     This film was poor. The plot was poor and the ...  negative\n",
       "2     A excellent experience. The narrative was fant...  positive\n",
       "3     This film was poor. The plot was boring and th...  negative\n",
       "4     A brilliant experience. The narrative was exce...  positive\n",
       "...                                                 ...       ...\n",
       "1268  Absolutely fine. The actors did a neutral job,...   neutral\n",
       "1269  A dull experience. The narrative was terrible ...  negative\n",
       "1270  I hated this movie! The acting was boring, and...  negative\n",
       "1271  Absolutely terrible! The actors did a boring j...  negative\n",
       "1272  A wonderful experience. The narrative was wond...  positive\n",
       "\n",
       "[1273 rows x 2 columns]"
      ]
     },
     "execution_count": 3,
     "metadata": {},
     "output_type": "execute_result"
    }
   ],
   "source": [
    "df"
   ]
  },
  {
   "cell_type": "code",
   "execution_count": 4,
   "id": "dbab56e9-2c78-46f9-890e-39635b86959b",
   "metadata": {},
   "outputs": [
    {
     "data": {
      "text/plain": [
       "Sentiment\n",
       "positive    518\n",
       "negative    482\n",
       "neutral     273\n",
       "Name: count, dtype: int64"
      ]
     },
     "execution_count": 4,
     "metadata": {},
     "output_type": "execute_result"
    }
   ],
   "source": [
    "df['Sentiment'].value_counts()"
   ]
  },
  {
   "cell_type": "code",
   "execution_count": 5,
   "id": "1a41626f-eb5d-4352-8cce-8ab9696a5511",
   "metadata": {},
   "outputs": [
    {
     "data": {
      "text/plain": [
       "Review\n",
       "A fantastic experience. The narrative was loved and the visuals were wonderful.           6\n",
       "A boring experience. The narrative was hated and the visuals were disappointing.          5\n",
       "I outstanding this movie! The acting was fantastic, and the story was wonderful.          4\n",
       "I boring this movie! The acting was terrible, and the story was boring.                   4\n",
       "Absolutely wonderful! The actors did a fantastic job, and the direction was fantastic.    4\n",
       "                                                                                         ..\n",
       "This film was passable. The plot was decent and the performances were decent.             1\n",
       "Absolutely poor! The actors did a awful job, and the direction was terrible.              1\n",
       "I neutral this movie. The acting was passable, and the story was okay.                    1\n",
       "A neutral experience. The narrative was okay and the visuals were average.                1\n",
       "Absolutely dull! The actors did a awful job, and the direction was boring.                1\n",
       "Name: count, Length: 903, dtype: int64"
      ]
     },
     "execution_count": 5,
     "metadata": {},
     "output_type": "execute_result"
    }
   ],
   "source": [
    "df['Review'].value_counts()"
   ]
  },
  {
   "cell_type": "code",
   "execution_count": 6,
   "id": "6d244f40-7332-4b38-bd79-cf11e9d0a445",
   "metadata": {},
   "outputs": [
    {
     "name": "stderr",
     "output_type": "stream",
     "text": [
      "C:\\Users\\saisw\\AppData\\Local\\Programs\\Python\\Python310\\lib\\site-packages\\tqdm\\auto.py:21: TqdmWarning: IProgress not found. Please update jupyter and ipywidgets. See https://ipywidgets.readthedocs.io/en/stable/user_install.html\n",
      "  from .autonotebook import tqdm as notebook_tqdm\n"
     ]
    },
    {
     "name": "stdout",
     "output_type": "stream",
     "text": [
      "WARNING:tensorflow:From C:\\Users\\saisw\\AppData\\Local\\Programs\\Python\\Python310\\lib\\site-packages\\tf_keras\\src\\losses.py:2976: The name tf.losses.sparse_softmax_cross_entropy is deprecated. Please use tf.compat.v1.losses.sparse_softmax_cross_entropy instead.\n",
      "\n"
     ]
    },
    {
     "name": "stderr",
     "output_type": "stream",
     "text": [
      "C:\\Users\\saisw\\AppData\\Local\\Programs\\Python\\Python310\\lib\\site-packages\\huggingface_hub\\file_download.py:140: UserWarning: `huggingface_hub` cache-system uses symlinks by default to efficiently store duplicated files but your machine does not support them in C:\\Users\\saisw\\.cache\\huggingface\\hub\\models--sentence-transformers--all-MiniLM-L6-v2. Caching files will still work but in a degraded version that might require more space on your disk. This warning can be disabled by setting the `HF_HUB_DISABLE_SYMLINKS_WARNING` environment variable. For more details, see https://huggingface.co/docs/huggingface_hub/how-to-cache#limitations.\n",
      "To support symlinks on Windows, you either need to activate Developer Mode or to run Python as an administrator. In order to activate developer mode, see this article: https://docs.microsoft.com/en-us/windows/apps/get-started/enable-your-device-for-development\n",
      "  warnings.warn(message)\n"
     ]
    }
   ],
   "source": [
    "from sentence_transformers import SentenceTransformer\n",
    "\n",
    "model = SentenceTransformer(\"sentence-transformers/all-MiniLM-L6-v2\")\n",
    "\n",
    "df[\"embeddings\"] = df[\"Review\"].apply(lambda x: model.encode(x))"
   ]
  },
  {
   "cell_type": "code",
   "execution_count": 7,
   "id": "03a9bf07-9e33-40f2-a1b2-a559e0649b79",
   "metadata": {},
   "outputs": [
    {
     "data": {
      "text/html": [
       "<div>\n",
       "<style scoped>\n",
       "    .dataframe tbody tr th:only-of-type {\n",
       "        vertical-align: middle;\n",
       "    }\n",
       "\n",
       "    .dataframe tbody tr th {\n",
       "        vertical-align: top;\n",
       "    }\n",
       "\n",
       "    .dataframe thead th {\n",
       "        text-align: right;\n",
       "    }\n",
       "</style>\n",
       "<table border=\"1\" class=\"dataframe\">\n",
       "  <thead>\n",
       "    <tr style=\"text-align: right;\">\n",
       "      <th></th>\n",
       "      <th>Review</th>\n",
       "      <th>Sentiment</th>\n",
       "      <th>embeddings</th>\n",
       "    </tr>\n",
       "  </thead>\n",
       "  <tbody>\n",
       "    <tr>\n",
       "      <th>0</th>\n",
       "      <td>This film was fine. The plot was average and t...</td>\n",
       "      <td>neutral</td>\n",
       "      <td>[0.026686512, -0.014796092, -0.021650208, -0.0...</td>\n",
       "    </tr>\n",
       "    <tr>\n",
       "      <th>1</th>\n",
       "      <td>This film was poor. The plot was poor and the ...</td>\n",
       "      <td>negative</td>\n",
       "      <td>[0.047682516, 0.0055205394, 0.029651597, 0.055...</td>\n",
       "    </tr>\n",
       "    <tr>\n",
       "      <th>2</th>\n",
       "      <td>A excellent experience. The narrative was fant...</td>\n",
       "      <td>positive</td>\n",
       "      <td>[-0.015009146, 0.058166604, -0.011737845, 0.00...</td>\n",
       "    </tr>\n",
       "    <tr>\n",
       "      <th>3</th>\n",
       "      <td>This film was poor. The plot was boring and th...</td>\n",
       "      <td>negative</td>\n",
       "      <td>[0.0491451, 0.038385015, 0.023642795, 0.047759...</td>\n",
       "    </tr>\n",
       "    <tr>\n",
       "      <th>4</th>\n",
       "      <td>A brilliant experience. The narrative was exce...</td>\n",
       "      <td>positive</td>\n",
       "      <td>[-0.011093559, 0.06354681, -0.015823368, -0.02...</td>\n",
       "    </tr>\n",
       "    <tr>\n",
       "      <th>...</th>\n",
       "      <td>...</td>\n",
       "      <td>...</td>\n",
       "      <td>...</td>\n",
       "    </tr>\n",
       "    <tr>\n",
       "      <th>1268</th>\n",
       "      <td>Absolutely fine. The actors did a neutral job,...</td>\n",
       "      <td>neutral</td>\n",
       "      <td>[-0.036597893, -0.03725716, -0.0050155506, -0....</td>\n",
       "    </tr>\n",
       "    <tr>\n",
       "      <th>1269</th>\n",
       "      <td>A dull experience. The narrative was terrible ...</td>\n",
       "      <td>negative</td>\n",
       "      <td>[0.020386424, 0.030361474, 0.0109566655, 0.053...</td>\n",
       "    </tr>\n",
       "    <tr>\n",
       "      <th>1270</th>\n",
       "      <td>I hated this movie! The acting was boring, and...</td>\n",
       "      <td>negative</td>\n",
       "      <td>[0.021311417, 0.049485184, 0.0119813625, 0.056...</td>\n",
       "    </tr>\n",
       "    <tr>\n",
       "      <th>1271</th>\n",
       "      <td>Absolutely terrible! The actors did a boring j...</td>\n",
       "      <td>negative</td>\n",
       "      <td>[0.010350495, -0.0096804155, 0.029523874, -0.0...</td>\n",
       "    </tr>\n",
       "    <tr>\n",
       "      <th>1272</th>\n",
       "      <td>A wonderful experience. The narrative was wond...</td>\n",
       "      <td>positive</td>\n",
       "      <td>[0.023855014, 0.097261995, 0.0035583482, -0.00...</td>\n",
       "    </tr>\n",
       "  </tbody>\n",
       "</table>\n",
       "<p>1273 rows × 3 columns</p>\n",
       "</div>"
      ],
      "text/plain": [
       "                                                 Review Sentiment  \\\n",
       "0     This film was fine. The plot was average and t...   neutral   \n",
       "1     This film was poor. The plot was poor and the ...  negative   \n",
       "2     A excellent experience. The narrative was fant...  positive   \n",
       "3     This film was poor. The plot was boring and th...  negative   \n",
       "4     A brilliant experience. The narrative was exce...  positive   \n",
       "...                                                 ...       ...   \n",
       "1268  Absolutely fine. The actors did a neutral job,...   neutral   \n",
       "1269  A dull experience. The narrative was terrible ...  negative   \n",
       "1270  I hated this movie! The acting was boring, and...  negative   \n",
       "1271  Absolutely terrible! The actors did a boring j...  negative   \n",
       "1272  A wonderful experience. The narrative was wond...  positive   \n",
       "\n",
       "                                             embeddings  \n",
       "0     [0.026686512, -0.014796092, -0.021650208, -0.0...  \n",
       "1     [0.047682516, 0.0055205394, 0.029651597, 0.055...  \n",
       "2     [-0.015009146, 0.058166604, -0.011737845, 0.00...  \n",
       "3     [0.0491451, 0.038385015, 0.023642795, 0.047759...  \n",
       "4     [-0.011093559, 0.06354681, -0.015823368, -0.02...  \n",
       "...                                                 ...  \n",
       "1268  [-0.036597893, -0.03725716, -0.0050155506, -0....  \n",
       "1269  [0.020386424, 0.030361474, 0.0109566655, 0.053...  \n",
       "1270  [0.021311417, 0.049485184, 0.0119813625, 0.056...  \n",
       "1271  [0.010350495, -0.0096804155, 0.029523874, -0.0...  \n",
       "1272  [0.023855014, 0.097261995, 0.0035583482, -0.00...  \n",
       "\n",
       "[1273 rows x 3 columns]"
      ]
     },
     "execution_count": 7,
     "metadata": {},
     "output_type": "execute_result"
    }
   ],
   "source": [
    "df"
   ]
  },
  {
   "cell_type": "code",
   "execution_count": 8,
   "id": "a8b6ffa4-3d9e-4bd3-8305-6640720526bb",
   "metadata": {},
   "outputs": [],
   "source": [
    "from sklearn.cluster import KMeans\n",
    "import numpy as np\n",
    "\n",
    "num_clusters = 3\n",
    "sentiment_clusters = {}\n",
    "\n",
    "for sentiment in df[\"Sentiment\"].unique():\n",
    "    subset = df[df[\"Sentiment\"] == sentiment]\n",
    "    X = np.vstack(subset[\"embeddings\"].values)\n",
    "    kmeans = KMeans(n_clusters=min(num_clusters, len(subset)), random_state=42, n_init=10)\n",
    "    clusters = kmeans.fit_predict(X)\n",
    "    df.loc[df[\"Sentiment\"] == sentiment, \"cluster\"] = clusters\n",
    "\n",
    "    cluster_map = {}\n",
    "    for i in range(num_clusters):\n",
    "        phrases = subset.iloc[np.where(clusters == i)][\"Review\"].tolist()\n",
    "        if phrases:\n",
    "            cluster_map[i] = phrases[:3]\n",
    "\n",
    "    sentiment_clusters[sentiment] = cluster_map\n"
   ]
  },
  {
   "cell_type": "code",
   "execution_count": 9,
   "id": "fc1629c7-dbe9-4016-ad77-6659f42c013c",
   "metadata": {},
   "outputs": [
    {
     "name": "stdout",
     "output_type": "stream",
     "text": [
      "\n",
      "🔹 Sentiment: neutral\n",
      "   Cluster 0: ['This film was fine. The plot was average and the performances were average.', 'I neutral this movie. The acting was decent, and the story was okay.', 'I okay this movie. The acting was average, and the story was passable.']\n",
      "   Cluster 1: ['A fine experience. The narrative was decent and the visuals were okay.', 'A fine experience. The narrative was passable and the visuals were okay.', 'A passable experience. The narrative was decent and the visuals were neutral.']\n",
      "   Cluster 2: ['decent movie with passable storytelling and neutral characters.', 'passable movie with passable storytelling and mediocre characters.', 'fine movie with passable storytelling and okay characters.']\n",
      "\n",
      "🔹 Sentiment: negative\n",
      "   Cluster 0: ['A terrible experience. The narrative was dull and the visuals were terrible.', 'A terrible experience. The narrative was hated and the visuals were awful.', 'A hated experience. The narrative was hated and the visuals were hated.']\n",
      "   Cluster 1: ['Absolutely awful! The actors did a disappointing job, and the direction was dull.', 'Absolutely awful! The actors did a dull job, and the direction was disappointing.', 'Absolutely disappointing! The actors did a boring job, and the direction was terrible.']\n",
      "   Cluster 2: ['This film was poor. The plot was poor and the performances were dull.', 'This film was poor. The plot was boring and the performances were hated.', 'This film was boring. The plot was terrible and the performances were boring.']\n",
      "\n",
      "🔹 Sentiment: positive\n",
      "   Cluster 0: ['This film was brilliant. The plot was loved and the performances were fantastic.', 'I excellent this movie! The acting was wonderful, and the story was wonderful.', 'This film was fantastic. The plot was wonderful and the performances were wonderful.']\n",
      "   Cluster 1: ['Absolutely brilliant! The actors did a amazing job, and the direction was amazing.', 'Absolutely outstanding! The actors did a outstanding job, and the direction was outstanding.', 'Absolutely outstanding! The actors did a brilliant job, and the direction was excellent.']\n",
      "   Cluster 2: ['A excellent experience. The narrative was fantastic and the visuals were brilliant.', 'A brilliant experience. The narrative was excellent and the visuals were outstanding.', 'A brilliant experience. The narrative was excellent and the visuals were fantastic.']\n"
     ]
    }
   ],
   "source": [
    "for sentiment, clusters in sentiment_clusters.items():\n",
    "    print(f\"\\n🔹 Sentiment: {sentiment}\")\n",
    "    for cluster_id, phrases in clusters.items():\n",
    "        print(f\"   Cluster {cluster_id}: {phrases}\")"
   ]
  },
  {
   "cell_type": "code",
   "execution_count": null,
   "id": "e855b88f-19bd-462a-8f11-e6d5e5a28217",
   "metadata": {},
   "outputs": [],
   "source": []
  },
  {
   "cell_type": "code",
   "execution_count": null,
   "id": "0abaa2f1-a9e5-4e49-89a0-37040bc8dd60",
   "metadata": {},
   "outputs": [],
   "source": []
  },
  {
   "cell_type": "code",
   "execution_count": null,
   "id": "036f980d-2ded-4647-8900-1c9a7b41ce3f",
   "metadata": {},
   "outputs": [],
   "source": []
  }
 ],
 "metadata": {
  "kernelspec": {
   "display_name": "Python 3 (ipykernel)",
   "language": "python",
   "name": "python3"
  },
  "language_info": {
   "codemirror_mode": {
    "name": "ipython",
    "version": 3
   },
   "file_extension": ".py",
   "mimetype": "text/x-python",
   "name": "python",
   "nbconvert_exporter": "python",
   "pygments_lexer": "ipython3",
   "version": "3.10.6"
  }
 },
 "nbformat": 4,
 "nbformat_minor": 5
}
