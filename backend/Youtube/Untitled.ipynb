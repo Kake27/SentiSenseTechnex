{
 "cells": [
  {
   "cell_type": "code",
   "execution_count": 1,
   "id": "6ee67200-7b2b-4aa3-99d6-d7eaeca6fea3",
   "metadata": {},
   "outputs": [
    {
     "name": "stdout",
     "output_type": "stream",
     "text": [
      "Requirement already satisfied: yt-dlp in c:\\users\\saisw\\appdata\\local\\programs\\python\\python310\\lib\\site-packages (2025.1.26)\n"
     ]
    }
   ],
   "source": [
    "!pip install yt-dlp"
   ]
  },
  {
   "cell_type": "code",
   "execution_count": 2,
   "id": "52b571e1-355a-4e37-b906-0a2dbc63362c",
   "metadata": {},
   "outputs": [],
   "source": [
    "import subprocess\n",
    "import json\n",
    "import os\n",
    "import csv"
   ]
  },
  {
   "cell_type": "code",
   "execution_count": 3,
   "id": "bc2b08b4-06b3-47b8-9e49-98ab30a01393",
   "metadata": {},
   "outputs": [],
   "source": [
    "video_url = \"https://www.youtube.com/watch?v=FdQvM0XCUGo\""
   ]
  },
  {
   "cell_type": "code",
   "execution_count": 4,
   "id": "de3e4d24-1a64-410d-bc21-09fabfba8d18",
   "metadata": {},
   "outputs": [
    {
     "name": "stdout",
     "output_type": "stream",
     "text": [
      "Comments saved to FdQvM0XCUGo_comments.csv\n"
     ]
    }
   ],
   "source": [
    "subprocess.run([\n",
    "    \"yt-dlp\",\n",
    "    \"--write-comments\",\n",
    "    \"--skip-download\",\n",
    "    \"-o\", \"%(id)s\",\n",
    "    video_url\n",
    "])\n",
    "\n",
    "video_id = video_url.split(\"v=\")[-1]\n",
    "json_filename = f\"{video_id}.info.json\"\n",
    "csv_filename = f\"{video_id}_comments.csv\"\n",
    "\n",
    "if os.path.exists(json_filename):\n",
    "    with open(json_filename, \"r\", encoding=\"utf-8\") as f:\n",
    "        data = json.load(f)\n",
    "    if \"comments\" in data:\n",
    "        comments = [comment[\"text\"] for comment in data[\"comments\"]]\n",
    "        \n",
    "        with open(csv_filename, \"w\", encoding=\"utf-8\", newline='') as csvfile:\n",
    "            writer = csv.writer(csvfile)\n",
    "            writer.writerow([\"Comment\"])\n",
    "            for comment in comments:\n",
    "                writer.writerow([comment])\n",
    "        print(f\"Comments saved to {csv_filename}\")\n",
    "    else:\n",
    "        print(\"No comments found.\")\n",
    "else:\n",
    "    print(\"JSON file not found. yt-dlp might not have extracted comments.\")"
   ]
  },
  {
   "cell_type": "code",
   "execution_count": null,
   "id": "9f3052f7-5c4a-41f7-a6f9-edec3bdff0f6",
   "metadata": {},
   "outputs": [],
   "source": []
  },
  {
   "cell_type": "code",
   "execution_count": null,
   "id": "2bdf634f-d81e-493f-9e90-df0cf405885e",
   "metadata": {},
   "outputs": [],
   "source": []
  }
 ],
 "metadata": {
  "kernelspec": {
   "display_name": "Python 3 (ipykernel)",
   "language": "python",
   "name": "python3"
  },
  "language_info": {
   "codemirror_mode": {
    "name": "ipython",
    "version": 3
   },
   "file_extension": ".py",
   "mimetype": "text/x-python",
   "name": "python",
   "nbconvert_exporter": "python",
   "pygments_lexer": "ipython3",
   "version": "3.10.6"
  }
 },
 "nbformat": 4,
 "nbformat_minor": 5
}
